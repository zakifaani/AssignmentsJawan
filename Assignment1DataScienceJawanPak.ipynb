{
 "cells": [
  {
   "cell_type": "code",
   "execution_count": 2,
   "id": "3096706b-6893-4461-9a71-c1ebcda9d86c",
   "metadata": {},
   "outputs": [
    {
     "name": "stdout",
     "output_type": "stream",
     "text": [
      "\n",
      "\n",
      "Twinkle, twinkle, little star\n",
      "         How I wonder what you are!\n",
      "                Up above the world so high,\n",
      "                Like a diamond in the sky.\n",
      "Twinkle, twinkle, little star\n",
      "         How I wonder what you are!\n",
      "         \n",
      "         \n"
     ]
    }
   ],
   "source": [
    "# Solution No.1:\n",
    "\n",
    "\n",
    "message = '''\n",
    "\n",
    "Twinkle, twinkle, little star\n",
    "         How I wonder what you are!\n",
    "                Up above the world so high,\n",
    "                Like a diamond in the sky.\n",
    "Twinkle, twinkle, little star\n",
    "         How I wonder what you are!\n",
    "         \n",
    "         '''\n",
    "print(message)\n"
   ]
  },
  {
   "cell_type": "code",
   "execution_count": 3,
   "id": "61f422c3-f68c-4384-bbee-53033577b690",
   "metadata": {},
   "outputs": [
    {
     "name": "stdout",
     "output_type": "stream",
     "text": [
      "Python version\n",
      "3.8.8 (default, Apr 13 2021, 15:08:03) [MSC v.1916 64 bit (AMD64)]\n",
      "Version info.\n",
      "sys.version_info(major=3, minor=8, micro=8, releaselevel='final', serial=0)\n"
     ]
    }
   ],
   "source": [
    "#Solution No.2:\n",
    "\n",
    "import sys\n",
    "print(\"Python version\")\n",
    "print(sys.version)\n",
    "print(\"Version info.\")\n",
    "print(sys.version_info)\n"
   ]
  },
  {
   "cell_type": "code",
   "execution_count": 4,
   "id": "fdf1784c-0bc5-4afb-aa5f-632cd16025b7",
   "metadata": {},
   "outputs": [
    {
     "name": "stdout",
     "output_type": "stream",
     "text": [
      "Current date and time : \n",
      "2022-01-01 18:50:20\n",
      "d1 = 01/01/2022\n",
      "d2 = January 01, 2022\n",
      "d3 = 01/01/22\n",
      "d4 = Jan-01-2022\n"
     ]
    }
   ],
   "source": [
    "# Solution No.3:\n",
    "\n",
    "# Simple\n",
    "\n",
    "import datetime\n",
    "now = datetime.datetime.now()\n",
    "print (\"Current date and time : \")\n",
    "print (now.strftime(\"%Y-%m-%d %H:%M:%S\"))\n",
    "\n",
    "\n",
    "\n",
    "# Detailed in different formats\n",
    "\n",
    "from datetime import date\n",
    "\n",
    "today = date.today()\n",
    "\n",
    "# dd/mm/YY\n",
    "d1 = today.strftime(\"%d/%m/%Y\")\n",
    "print(\"d1 =\", d1)\n",
    "\n",
    "# Textual month, day and year\t\n",
    "d2 = today.strftime(\"%B %d, %Y\")\n",
    "print(\"d2 =\", d2)\n",
    "\n",
    "# mm/dd/y\n",
    "d3 = today.strftime(\"%m/%d/%y\")\n",
    "print(\"d3 =\", d3)\n",
    "\n",
    "# Month abbreviation, day and year\t\n",
    "d4 = today.strftime(\"%b-%d-%Y\")\n",
    "print(\"d4 =\", d4)"
   ]
  },
  {
   "cell_type": "code",
   "execution_count": 5,
   "id": "5bad4169-1c07-4da4-87b0-bef71d4f99e0",
   "metadata": {},
   "outputs": [
    {
     "name": "stdin",
     "output_type": "stream",
     "text": [
      "Enter the radius:\n",
      " 6\n"
     ]
    },
    {
     "name": "stdout",
     "output_type": "stream",
     "text": [
      "The area of circle having radius 6 is 113.09733552923255\n"
     ]
    }
   ],
   "source": [
    "# Solution No.4:\n",
    "\n",
    "\n",
    "import math\n",
    "\n",
    "\n",
    "def circle_area(radius):\n",
    "    radius = int(input(\"Enter the radius:\\n\"))\n",
    "    return f\"The area of circle having radius {radius} is {(math.pi) * pow(radius, 2)}\"\n",
    "\n",
    "\n",
    "print(circle_area(0))"
   ]
  },
  {
   "cell_type": "code",
   "execution_count": 7,
   "id": "fca9d28d-7dda-413c-b8dc-9afe94c23523",
   "metadata": {},
   "outputs": [
    {
     "name": "stdout",
     "output_type": "stream",
     "text": [
      "ila devaj \n"
     ]
    }
   ],
   "source": [
    "# Solution No.5:\n",
    "\n",
    "def user(first_name, last_name):\n",
    "    return f\"{first_name[::-1]} {last_name[::-1]} \"\n",
    "\n",
    "\n",
    "result = user(\"ali\", \"javed\")\n",
    "\n",
    "print(result)\n"
   ]
  },
  {
   "cell_type": "code",
   "execution_count": 8,
   "id": "0a375b2f-c839-45dd-8002-97a5a48c0077",
   "metadata": {},
   "outputs": [
    {
     "name": "stdin",
     "output_type": "stream",
     "text": [
      "Enter the first number:\n",
      " 6\n",
      "Enter the second number:\n",
      " 8\n"
     ]
    },
    {
     "name": "stdout",
     "output_type": "stream",
     "text": [
      "The sum of 6 and 8 is 14\n"
     ]
    }
   ],
   "source": [
    "# Solution No.6:\n",
    "\n",
    "input1 = int(input(\"Enter the first number:\\n\"))\n",
    "input2 = int(input(\"Enter the second number:\\n\"))\n",
    "sum = input1 + input2\n",
    "\n",
    "print(\"The sum of\", input1, \"and\", input2, \"is\", sum)"
   ]
  },
  {
   "cell_type": "code",
   "execution_count": null,
   "id": "a72f6c35-2a69-4888-80af-1df06bf9de66",
   "metadata": {},
   "outputs": [],
   "source": []
  }
 ],
 "metadata": {
  "kernelspec": {
   "display_name": "Python 3",
   "language": "python",
   "name": "python3"
  },
  "language_info": {
   "codemirror_mode": {
    "name": "ipython",
    "version": 3
   },
   "file_extension": ".py",
   "mimetype": "text/x-python",
   "name": "python",
   "nbconvert_exporter": "python",
   "pygments_lexer": "ipython3",
   "version": "3.8.8"
  }
 },
 "nbformat": 4,
 "nbformat_minor": 5
}
